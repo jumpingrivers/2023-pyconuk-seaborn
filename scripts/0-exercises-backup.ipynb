{
 "cells": [
  {
   "cell_type": "markdown",
   "id": "0f0a0b4e",
   "metadata": {},
   "source": [
    "# Exercises"
   ]
  },
  {
   "cell_type": "markdown",
   "id": "76d035a2",
   "metadata": {},
   "source": [
    "Not all questions will require you to write code, you will be able to write\n",
    "your answers in the appropriate places. For code answers, right them out into\n",
    "the code cells provided.\n",
    "\n",
    "If you need help:\n",
    "\n",
    "* Look back through [0-demo.ipynb](0-demo.ipynb)\n",
    "\n",
    "* Ask for help from your tutor (unmute, message, or private message)"
   ]
  },
  {
   "cell_type": "markdown",
   "id": "2144277d",
   "metadata": {},
   "source": [
    "## Q1)"
   ]
  },
  {
   "cell_type": "markdown",
   "id": "a9b09e28",
   "metadata": {},
   "source": [
    "In this question you will create some scatter and line plots using the health\n",
    "expenditure data, which can be loaded by running:"
   ]
  },
  {
   "cell_type": "code",
   "execution_count": null,
   "id": "c72f33cf",
   "metadata": {
    "lines_to_next_cell": 2
   },
   "outputs": [],
   "source": [
    "import seaborn as sns\n",
    "\n",
    "data = sns.load_dataset(\"healthexp\")\n",
    "data.head()"
   ]
  },
  {
   "cell_type": "markdown",
   "id": "354488a1",
   "metadata": {},
   "source": [
    "### Q1a)"
   ]
  },
  {
   "cell_type": "markdown",
   "id": "e03fd987",
   "metadata": {},
   "source": [
    "First, set the seaborn theme for your plots by running the code below.\n"
   ]
  },
  {
   "cell_type": "code",
   "execution_count": null,
   "id": "2049ca8f",
   "metadata": {
    "lines_to_next_cell": 2
   },
   "outputs": [],
   "source": [
    "sns.set_theme()"
   ]
  },
  {
   "cell_type": "markdown",
   "id": "e18ea986",
   "metadata": {},
   "source": [
    "### Q1b)"
   ]
  },
  {
   "cell_type": "markdown",
   "id": "71498bd0",
   "metadata": {},
   "source": [
    "Using seaborn, create a scatter plot showing life expectancy (on the $y$-axis)\n",
    "against year (on the $x$-axis).\n"
   ]
  },
  {
   "cell_type": "code",
   "execution_count": null,
   "id": "6a1910a0",
   "metadata": {
    "lines_to_next_cell": 2
   },
   "outputs": [],
   "source": [
    "# Your Q1b) code here"
   ]
  },
  {
   "cell_type": "markdown",
   "id": "1349d272",
   "metadata": {},
   "source": [
    "### Q1c)"
   ]
  },
  {
   "cell_type": "markdown",
   "id": "407c66d4",
   "metadata": {},
   "source": [
    "Now update the colour and shape of the data points based on country.\n"
   ]
  },
  {
   "cell_type": "code",
   "execution_count": null,
   "id": "f4ccd46c",
   "metadata": {
    "lines_to_next_cell": 2
   },
   "outputs": [],
   "source": [
    "# Your Q1c) code here"
   ]
  },
  {
   "cell_type": "markdown",
   "id": "cd1b8b77",
   "metadata": {},
   "source": [
    "### Q1d)"
   ]
  },
  {
   "cell_type": "markdown",
   "id": "ff29e7b2",
   "metadata": {},
   "source": [
    "The code below will generate a subset of the data for Great Britain:\n"
   ]
  },
  {
   "cell_type": "code",
   "execution_count": null,
   "id": "4272a650",
   "metadata": {
    "lines_to_next_cell": 2
   },
   "outputs": [],
   "source": [
    "gb = data[data[\"Country\"] == \"Great Britain\"]"
   ]
  },
  {
   "cell_type": "markdown",
   "id": "27cb6e6e",
   "metadata": {},
   "source": [
    "With this data, use seaborn to create a scatter plot of the life expectancy in\n",
    "Great Britain against time. Then resize the data points in your plot based on\n",
    "the annual health expenditure."
   ]
  },
  {
   "cell_type": "markdown",
   "id": "1df45ebd",
   "metadata": {},
   "source": [
    "*Hint*: use the `size` argument to vary the point size.\n"
   ]
  },
  {
   "cell_type": "code",
   "execution_count": null,
   "id": "afcac51a",
   "metadata": {
    "lines_to_next_cell": 2
   },
   "outputs": [],
   "source": [
    "# Your Q1d) code here"
   ]
  },
  {
   "cell_type": "markdown",
   "id": "48a3a487",
   "metadata": {},
   "source": [
    "### Q1e)"
   ]
  },
  {
   "cell_type": "markdown",
   "id": "ce468b46",
   "metadata": {},
   "source": [
    "Using the \"full\" dataset again (not just data relating to Great Britain),\n",
    "create a line plot showing the average health expenditure for each year.\n",
    "\n",
    "Use a shaded region to indicate the standard deviation."
   ]
  },
  {
   "cell_type": "markdown",
   "id": "60a092ec",
   "metadata": {},
   "source": [
    "*Hint*: set the argument `ci=\"sd\"` to use the standard deviation.\n"
   ]
  },
  {
   "cell_type": "code",
   "execution_count": null,
   "id": "9aa533ce",
   "metadata": {
    "lines_to_next_cell": 2
   },
   "outputs": [],
   "source": [
    "# Your Q1e) code here"
   ]
  },
  {
   "cell_type": "markdown",
   "id": "4796fdf8",
   "metadata": {},
   "source": [
    "### Q1f)"
   ]
  },
  {
   "cell_type": "markdown",
   "id": "ad589948",
   "metadata": {},
   "source": [
    "Create another line plot showing the health expenditure against time for each\n",
    "country. Use a distinct line style and colour for each country.\n"
   ]
  },
  {
   "cell_type": "code",
   "execution_count": null,
   "id": "0b36052b",
   "metadata": {
    "lines_to_next_cell": 2
   },
   "outputs": [],
   "source": [
    "# Your Q1f) code here"
   ]
  },
  {
   "cell_type": "markdown",
   "id": "b90b4dc3",
   "metadata": {},
   "source": [
    "## Q2)"
   ]
  },
  {
   "cell_type": "markdown",
   "id": "c86d48d7",
   "metadata": {},
   "source": [
    "We will now see how to combine matplotlib syntax with seaborn's visualisation functions\n",
    "to construct subplots."
   ]
  },
  {
   "cell_type": "markdown",
   "id": "7c0c719a",
   "metadata": {},
   "source": [
    "### Q2a)"
   ]
  },
  {
   "cell_type": "markdown",
   "id": "0bd1313e",
   "metadata": {},
   "source": [
    "Run the code below to initialise a `plt.subplots()` figure with two panels.\n"
   ]
  },
  {
   "cell_type": "code",
   "execution_count": null,
   "id": "fbf4e5a2",
   "metadata": {
    "lines_to_next_cell": 2
   },
   "outputs": [],
   "source": [
    "import matplotlib.pyplot as plt\n",
    "\n",
    "fig, ax = plt.subplots(\n",
    "    nrows=2,\n",
    "    ncols=1,\n",
    "    figsize=(6, 5),\n",
    ")"
   ]
  },
  {
   "cell_type": "markdown",
   "id": "ccf639f2",
   "metadata": {},
   "source": [
    "The top panel is accessed using `ax[0]` and the bottom panel is accessed with `ax[1]`."
   ]
  },
  {
   "cell_type": "markdown",
   "id": "739d7dc5",
   "metadata": {},
   "source": [
    "### Q2b)"
   ]
  },
  {
   "cell_type": "markdown",
   "id": "9fb7730f",
   "metadata": {},
   "source": [
    "The code below adds a regression plot to the upper panel, showing the best-fit trendline\n",
    "for the life expectancy vs the health expenditure for the Great Britain data.\n",
    "\n",
    "Display the residuals in the lower panel."
   ]
  },
  {
   "cell_type": "markdown",
   "id": "dabed974",
   "metadata": {},
   "source": [
    "*Hint*: use the argument `ax` to specify which axes to use.\n"
   ]
  },
  {
   "cell_type": "code",
   "execution_count": null,
   "id": "b34d8d28",
   "metadata": {
    "lines_to_next_cell": 2
   },
   "outputs": [],
   "source": [
    "# Your Q2b) code here\n",
    "fig, ax = plt.subplots(\n",
    "    nrows=2,\n",
    "    ncols=1,\n",
    "    figsize=(6, 5),\n",
    ")\n",
    "sns.regplot(\n",
    "    data=gb,\n",
    "    x=\"Spending_USD\",\n",
    "    y=\"Life_Expectancy\",\n",
    "    ax=ax[0],\n",
    ")"
   ]
  },
  {
   "cell_type": "markdown",
   "id": "be5eed0f",
   "metadata": {},
   "source": [
    "_NB. Because our figure has been created with matplotlib, it can be customised\n",
    "using matplotlib syntax. For example, you could change the y-axis label of the lower\n",
    "panel to \"Residuals\" using_ `ax[1].set_ylabel(\"Residuals\")`"
   ]
  },
  {
   "cell_type": "markdown",
   "id": "2cdee5a5",
   "metadata": {},
   "source": [
    "## Q3)"
   ]
  },
  {
   "cell_type": "markdown",
   "id": "d0a5a43b",
   "metadata": {},
   "source": [
    "In this question we will plot the distribution of pulse rates for different\n",
    "types of exercise and diet. First, load the dataset with:\n"
   ]
  },
  {
   "cell_type": "code",
   "execution_count": null,
   "id": "49c50a3e",
   "metadata": {
    "lines_to_next_cell": 2
   },
   "outputs": [],
   "source": [
    "import seaborn as sns\n",
    "\n",
    "exercise = sns.load_dataset(\"exercise\")\n",
    "exercise.head()"
   ]
  },
  {
   "cell_type": "markdown",
   "id": "288f1a7f",
   "metadata": {},
   "source": [
    "### Q3a)"
   ]
  },
  {
   "cell_type": "markdown",
   "id": "67d309f8",
   "metadata": {},
   "source": [
    "Plot the distribution of pulse rates using a histogram.\n"
   ]
  },
  {
   "cell_type": "code",
   "execution_count": null,
   "id": "636a5239",
   "metadata": {
    "lines_to_next_cell": 2
   },
   "outputs": [],
   "source": [
    "# Your Q3a) code here"
   ]
  },
  {
   "cell_type": "markdown",
   "id": "884bce63",
   "metadata": {},
   "source": [
    "### Q3b)"
   ]
  },
  {
   "cell_type": "markdown",
   "id": "a0c36395",
   "metadata": {},
   "source": [
    "Plot the distributions of pulse rates, with a separate histogram for each\n",
    "exercise type (listed in the `\"kind\"` column). Use stepped histograms."
   ]
  },
  {
   "cell_type": "markdown",
   "id": "c1f985c7",
   "metadata": {},
   "source": [
    "*Hint*: specify the argument `element=\"step\"` to plot a stepped histogram.\n"
   ]
  },
  {
   "cell_type": "code",
   "execution_count": null,
   "id": "7052c48e",
   "metadata": {
    "lines_to_next_cell": 2
   },
   "outputs": [],
   "source": [
    "# Your Q3b) code here"
   ]
  },
  {
   "cell_type": "markdown",
   "id": "7161e44f",
   "metadata": {},
   "source": [
    "### Q3c)"
   ]
  },
  {
   "cell_type": "markdown",
   "id": "4390d9de",
   "metadata": {},
   "source": [
    "Recreate the plot from Q3b), but visualising the distributions with a KDE,\n",
    "rather than a histogram.\n"
   ]
  },
  {
   "cell_type": "code",
   "execution_count": null,
   "id": "241f005f",
   "metadata": {
    "lines_to_next_cell": 2
   },
   "outputs": [],
   "source": [
    "# Your Q3c) code here"
   ]
  },
  {
   "cell_type": "markdown",
   "id": "1a70edc4",
   "metadata": {},
   "source": [
    "## Q4)"
   ]
  },
  {
   "cell_type": "markdown",
   "id": "6232b0a5",
   "metadata": {},
   "source": [
    "In this question we will practice generating facet grids and pair grids."
   ]
  },
  {
   "cell_type": "markdown",
   "id": "ae57e538",
   "metadata": {},
   "source": [
    "### Q4a)"
   ]
  },
  {
   "cell_type": "markdown",
   "id": "77e22462",
   "metadata": {},
   "source": [
    "Using a facet grid of histograms, display the distributions of pulse rates for\n",
    "every combination of diet and exercise type\n"
   ]
  },
  {
   "cell_type": "code",
   "execution_count": null,
   "id": "450161ce",
   "metadata": {
    "lines_to_next_cell": 2
   },
   "outputs": [],
   "source": [
    "# Your Q4a) code here"
   ]
  },
  {
   "cell_type": "markdown",
   "id": "705aaf3c",
   "metadata": {},
   "source": [
    "### Q4b)"
   ]
  },
  {
   "cell_type": "markdown",
   "id": "caa03896",
   "metadata": {},
   "source": [
    "We will now construct a pair grid plot using the iris dataset, which can be loaded by\n",
    "running:\n"
   ]
  },
  {
   "cell_type": "code",
   "execution_count": null,
   "id": "41817a3d",
   "metadata": {
    "lines_to_next_cell": 2
   },
   "outputs": [],
   "source": [
    "iris = sns.load_dataset(\"iris\")\n",
    "iris.head()"
   ]
  },
  {
   "cell_type": "markdown",
   "id": "33c6826c",
   "metadata": {},
   "source": [
    "The code below will generate an empty pair grid. Update this so that the\n",
    "diagonal panels display histograms, the upper panels display scatter plots, and\n",
    "the lower panels display KDE plots.\n"
   ]
  },
  {
   "cell_type": "code",
   "execution_count": null,
   "id": "5222f395",
   "metadata": {
    "lines_to_next_cell": 2
   },
   "outputs": [],
   "source": [
    "# Your Q4b) code here\n",
    "g = sns.PairGrid(data=iris, diag_sharey=False)"
   ]
  },
  {
   "cell_type": "markdown",
   "id": "1761d4b7",
   "metadata": {},
   "source": [
    "## Q5)"
   ]
  },
  {
   "cell_type": "markdown",
   "id": "00a71700",
   "metadata": {},
   "source": [
    "Change the axis labels of your pair plot from Q4b) to `\"Sepal length\"`,\n",
    "`\"Sepal width\"`, `\"Petal length\"`, `\"Petal width\"`."
   ]
  },
  {
   "cell_type": "markdown",
   "id": "2273543c",
   "metadata": {},
   "source": [
    "*Hint*: try using a for loop to update the labels.\n"
   ]
  },
  {
   "cell_type": "code",
   "execution_count": null,
   "id": "44932219",
   "metadata": {
    "lines_to_next_cell": 2
   },
   "outputs": [],
   "source": [
    "# Your Q4c) code here"
   ]
  },
  {
   "cell_type": "markdown",
   "id": "0ed544e5",
   "metadata": {},
   "source": [
    "### Solutions"
   ]
  },
  {
   "cell_type": "markdown",
   "id": "ef5b91e9",
   "metadata": {},
   "source": [
    "Got to the end early? Want to check your solutions?\n",
    "\n",
    "Your tutor will be going over the solutions shortly.\n",
    "\n",
    "However, in the meanwhile, you can view the solutions to these exercises\n",
    "[here](0-exercises-solutions.ipynb).\n"
   ]
  }
 ],
 "metadata": {
  "jupytext": {
   "cell_metadata_filter": "-all",
   "main_language": "python",
   "notebook_metadata_filter": "-all"
  }
 },
 "nbformat": 4,
 "nbformat_minor": 5
}
