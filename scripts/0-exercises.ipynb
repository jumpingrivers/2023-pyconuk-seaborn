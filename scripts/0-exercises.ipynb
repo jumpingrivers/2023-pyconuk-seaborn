{
 "cells": [
  {
   "cell_type": "markdown",
   "id": "4c15cdee",
   "metadata": {},
   "source": [
    "# Exercises"
   ]
  },
  {
   "cell_type": "markdown",
   "id": "8e7646dd",
   "metadata": {},
   "source": [
    "Not all questions will require you to write code, you will be able to write\n",
    "your answers in the appropriate places. For code answers, right them out into\n",
    "the code cells provided.\n",
    "\n",
    "If you need help:\n",
    "\n",
    "* Look back through [0-demo.ipynb](0-demo.ipynb)\n",
    "\n",
    "* Ask for help from your tutor (unmute, message, or private message)"
   ]
  },
  {
   "cell_type": "markdown",
   "id": "30ec9ce9",
   "metadata": {},
   "source": [
    "## Q1)"
   ]
  },
  {
   "cell_type": "markdown",
   "id": "bf2f3437",
   "metadata": {},
   "source": [
    "In this question you will create some scatter and line plots using the health\n",
    "expenditure data, which can be loaded by running:"
   ]
  },
  {
   "cell_type": "code",
   "execution_count": null,
   "id": "0b14b3f6",
   "metadata": {
    "lines_to_next_cell": 2
   },
   "outputs": [],
   "source": [
    "import seaborn as sns\n",
    "\n",
    "data = sns.load_dataset(\"healthexp\")\n",
    "data.head()"
   ]
  },
  {
   "cell_type": "markdown",
   "id": "cc228500",
   "metadata": {},
   "source": [
    "### Q1a)"
   ]
  },
  {
   "cell_type": "markdown",
   "id": "36c964a3",
   "metadata": {},
   "source": [
    "First, set the seaborn theme for your plots by running the code below.\n"
   ]
  },
  {
   "cell_type": "code",
   "execution_count": null,
   "id": "20a49f33",
   "metadata": {
    "lines_to_next_cell": 2
   },
   "outputs": [],
   "source": [
    "sns.set_theme()"
   ]
  },
  {
   "cell_type": "markdown",
   "id": "64bce247",
   "metadata": {},
   "source": [
    "### Q1b)"
   ]
  },
  {
   "cell_type": "markdown",
   "id": "3d7b6871",
   "metadata": {},
   "source": [
    "Using seaborn, create a scatter plot showing life expectancy (on the $y$-axis)\n",
    "against year (on the $x$-axis).\n"
   ]
  },
  {
   "cell_type": "code",
   "execution_count": null,
   "id": "ec05e327",
   "metadata": {
    "lines_to_next_cell": 2
   },
   "outputs": [],
   "source": [
    "# Your Q1b) code here"
   ]
  },
  {
   "cell_type": "markdown",
   "id": "8b1789fd",
   "metadata": {},
   "source": [
    "### Q1c)"
   ]
  },
  {
   "cell_type": "markdown",
   "id": "a81c79b4",
   "metadata": {},
   "source": [
    "Now update the colour and shape of the data points based on country.\n"
   ]
  },
  {
   "cell_type": "code",
   "execution_count": null,
   "id": "87b726fb",
   "metadata": {
    "lines_to_next_cell": 2
   },
   "outputs": [],
   "source": [
    "# Your Q1c) code here"
   ]
  },
  {
   "cell_type": "markdown",
   "id": "32996119",
   "metadata": {},
   "source": [
    "### Q1d)"
   ]
  },
  {
   "cell_type": "markdown",
   "id": "1d73e270",
   "metadata": {},
   "source": [
    "The code below will generate a subset of the data for Great Britain:\n"
   ]
  },
  {
   "cell_type": "code",
   "execution_count": null,
   "id": "a7e6d271",
   "metadata": {
    "lines_to_next_cell": 2
   },
   "outputs": [],
   "source": [
    "gb = data[data[\"Country\"] == \"Great Britain\"]"
   ]
  },
  {
   "cell_type": "markdown",
   "id": "c95a3486",
   "metadata": {},
   "source": [
    "With this data, use seaborn to create a scatter plot of the life expectancy in\n",
    "Great Britain against time. Then resize the data points in your plot based on\n",
    "the annual health expenditure."
   ]
  },
  {
   "cell_type": "markdown",
   "id": "c9bd08f9",
   "metadata": {},
   "source": [
    "*Hint*: use the `size` argument to vary the point size.\n"
   ]
  },
  {
   "cell_type": "code",
   "execution_count": null,
   "id": "195a38cf",
   "metadata": {
    "lines_to_next_cell": 2
   },
   "outputs": [],
   "source": [
    "# Your Q1d) code here"
   ]
  },
  {
   "cell_type": "markdown",
   "id": "883b5c4c",
   "metadata": {},
   "source": [
    "### Q1e)"
   ]
  },
  {
   "cell_type": "markdown",
   "id": "bd18bf6d",
   "metadata": {},
   "source": [
    "Using the \"full\" dataset again (not just data relating to Great Britain),\n",
    "create a line plot showing the average health expenditure for each year.\n",
    "\n",
    "Use a shaded region to indicate the standard deviation."
   ]
  },
  {
   "cell_type": "markdown",
   "id": "b5392762",
   "metadata": {},
   "source": [
    "*Hint*: set the argument `ci=\"sd\"` to use the standard deviation.\n"
   ]
  },
  {
   "cell_type": "code",
   "execution_count": null,
   "id": "a2bd1de4",
   "metadata": {
    "lines_to_next_cell": 2
   },
   "outputs": [],
   "source": [
    "# Your Q1e) code here"
   ]
  },
  {
   "cell_type": "markdown",
   "id": "ba9be933",
   "metadata": {},
   "source": [
    "### Q1f)"
   ]
  },
  {
   "cell_type": "markdown",
   "id": "40820fc9",
   "metadata": {},
   "source": [
    "Create another line plot showing the health expenditure against time for each\n",
    "country. Use a distinct line style and colour for each country.\n"
   ]
  },
  {
   "cell_type": "code",
   "execution_count": null,
   "id": "99dc4489",
   "metadata": {
    "lines_to_next_cell": 2
   },
   "outputs": [],
   "source": [
    "# Your Q1f) code here"
   ]
  },
  {
   "cell_type": "markdown",
   "id": "cc4b8441",
   "metadata": {},
   "source": [
    "## Q2)"
   ]
  },
  {
   "cell_type": "markdown",
   "id": "868058c4",
   "metadata": {},
   "source": [
    "We will now see how to combine matplotlib syntax with seaborn's visualisation functions\n",
    "to construct subplots."
   ]
  },
  {
   "cell_type": "markdown",
   "id": "f56f7a2b",
   "metadata": {},
   "source": [
    "### Q2a)"
   ]
  },
  {
   "cell_type": "markdown",
   "id": "b4a28e91",
   "metadata": {},
   "source": [
    "Run the code below to initialise a `plt.subplots()` figure with two panels.\n"
   ]
  },
  {
   "cell_type": "code",
   "execution_count": null,
   "id": "c757a974",
   "metadata": {
    "lines_to_next_cell": 2
   },
   "outputs": [],
   "source": [
    "import matplotlib.pyplot as plt\n",
    "\n",
    "fig, ax = plt.subplots(\n",
    "    nrows=2,\n",
    "    ncols=1,\n",
    "    figsize=(6, 5),\n",
    ")"
   ]
  },
  {
   "cell_type": "markdown",
   "id": "c1185337",
   "metadata": {},
   "source": [
    "The top panel is accessed using `ax[0]` and the bottom panel is accessed with `ax[1]`."
   ]
  },
  {
   "cell_type": "markdown",
   "id": "b46f9925",
   "metadata": {},
   "source": [
    "### Q2b)"
   ]
  },
  {
   "cell_type": "markdown",
   "id": "0550fd30",
   "metadata": {},
   "source": [
    "The code below adds a regression plot to the upper panel, showing the best-fit trendline\n",
    "for the life expectancy vs the health expenditure for the Great Britain data.\n",
    "\n",
    "Display the residuals in the lower panel."
   ]
  },
  {
   "cell_type": "markdown",
   "id": "ed7b5cf8",
   "metadata": {},
   "source": [
    "*Hint*: use the argument `ax` to specify which axes to use.\n"
   ]
  },
  {
   "cell_type": "code",
   "execution_count": null,
   "id": "cfb341fd",
   "metadata": {
    "lines_to_next_cell": 2
   },
   "outputs": [],
   "source": [
    "# Your Q2b) code here\n",
    "fig, ax = plt.subplots(\n",
    "    nrows=2,\n",
    "    ncols=1,\n",
    "    figsize=(6, 5),\n",
    ")\n",
    "sns.regplot(\n",
    "    data=gb,\n",
    "    x=\"Spending_USD\",\n",
    "    y=\"Life_Expectancy\",\n",
    "    ax=ax[0],\n",
    ")"
   ]
  },
  {
   "cell_type": "markdown",
   "id": "a0030c24",
   "metadata": {},
   "source": [
    "_NB. Because our figure has been created with matplotlib, it can be customised\n",
    "using matplotlib syntax. For example, you could change the y-axis label of the lower\n",
    "panel to \"Residuals\" using_ `ax[1].set_ylabel(\"Residuals\")`"
   ]
  },
  {
   "cell_type": "markdown",
   "id": "ffb6fc9b",
   "metadata": {},
   "source": [
    "## Q3)"
   ]
  },
  {
   "cell_type": "markdown",
   "id": "86246d2b",
   "metadata": {},
   "source": [
    "In this question we will plot the distribution of pulse rates for different\n",
    "types of exercise and diet. First, load the dataset with:\n"
   ]
  },
  {
   "cell_type": "code",
   "execution_count": null,
   "id": "15dff441",
   "metadata": {
    "lines_to_next_cell": 2
   },
   "outputs": [],
   "source": [
    "import seaborn as sns\n",
    "\n",
    "exercise = sns.load_dataset(\"exercise\")\n",
    "exercise.head()"
   ]
  },
  {
   "cell_type": "markdown",
   "id": "7af83c9e",
   "metadata": {},
   "source": [
    "### Q3a)"
   ]
  },
  {
   "cell_type": "markdown",
   "id": "d72be768",
   "metadata": {},
   "source": [
    "Plot the distribution of pulse rates using a histogram.\n"
   ]
  },
  {
   "cell_type": "code",
   "execution_count": null,
   "id": "6ba840f4",
   "metadata": {
    "lines_to_next_cell": 2
   },
   "outputs": [],
   "source": [
    "# Your Q3a) code here"
   ]
  },
  {
   "cell_type": "markdown",
   "id": "e078d0f3",
   "metadata": {},
   "source": [
    "### Q3b)"
   ]
  },
  {
   "cell_type": "markdown",
   "id": "d3aa8af1",
   "metadata": {},
   "source": [
    "Plot the distributions of pulse rates, with a separate histogram for each\n",
    "exercise type (listed in the `\"kind\"` column). Use stepped histograms."
   ]
  },
  {
   "cell_type": "markdown",
   "id": "7b8b0b68",
   "metadata": {},
   "source": [
    "*Hint*: specify the argument `element=\"step\"` to plot a stepped histogram.\n"
   ]
  },
  {
   "cell_type": "code",
   "execution_count": null,
   "id": "e21c97e1",
   "metadata": {
    "lines_to_next_cell": 2
   },
   "outputs": [],
   "source": [
    "# Your Q3b) code here"
   ]
  },
  {
   "cell_type": "markdown",
   "id": "f6e15216",
   "metadata": {},
   "source": [
    "### Q3c)"
   ]
  },
  {
   "cell_type": "markdown",
   "id": "6722fbf0",
   "metadata": {},
   "source": [
    "Recreate the plot from Q3b), but visualising the distributions with a KDE,\n",
    "rather than a histogram.\n"
   ]
  },
  {
   "cell_type": "code",
   "execution_count": null,
   "id": "2abe9a81",
   "metadata": {
    "lines_to_next_cell": 2
   },
   "outputs": [],
   "source": [
    "# Your Q3c) code here"
   ]
  },
  {
   "cell_type": "markdown",
   "id": "b8bbd772",
   "metadata": {},
   "source": [
    "## Q4)"
   ]
  },
  {
   "cell_type": "markdown",
   "id": "d6b4084d",
   "metadata": {},
   "source": [
    "In this question we will practice generating facet grids and pair grids."
   ]
  },
  {
   "cell_type": "markdown",
   "id": "132abaf8",
   "metadata": {},
   "source": [
    "### Q4a)"
   ]
  },
  {
   "cell_type": "markdown",
   "id": "0cbccb3c",
   "metadata": {},
   "source": [
    "Using a facet grid of histograms, display the distributions of pulse rates for\n",
    "every combination of diet and exercise type\n"
   ]
  },
  {
   "cell_type": "code",
   "execution_count": null,
   "id": "fe609fb8",
   "metadata": {
    "lines_to_next_cell": 2
   },
   "outputs": [],
   "source": [
    "# Your Q4a) code here"
   ]
  },
  {
   "cell_type": "markdown",
   "id": "8c1d4257",
   "metadata": {},
   "source": [
    "### Q4b)"
   ]
  },
  {
   "cell_type": "markdown",
   "id": "c7b7dac9",
   "metadata": {},
   "source": [
    "We will now construct a pair grid plot using the iris dataset, which can be loaded by\n",
    "running:\n"
   ]
  },
  {
   "cell_type": "code",
   "execution_count": null,
   "id": "8f6e7796",
   "metadata": {
    "lines_to_next_cell": 2
   },
   "outputs": [],
   "source": [
    "iris = sns.load_dataset(\"iris\")\n",
    "iris.head()"
   ]
  },
  {
   "cell_type": "markdown",
   "id": "b222c6f8",
   "metadata": {},
   "source": [
    "The code below will generate an empty pair grid. Update this so that the\n",
    "diagonal panels display histograms, the upper panels display scatter plots, and\n",
    "the lower panels display KDE plots.\n"
   ]
  },
  {
   "cell_type": "code",
   "execution_count": null,
   "id": "ab7cfa01",
   "metadata": {
    "lines_to_next_cell": 2
   },
   "outputs": [],
   "source": [
    "# Your Q4b) code here\n",
    "g = sns.PairGrid(data=iris, diag_sharey=False)"
   ]
  },
  {
   "cell_type": "markdown",
   "id": "a62230b8",
   "metadata": {},
   "source": [
    "## Q5)"
   ]
  },
  {
   "cell_type": "markdown",
   "id": "5f857a5b",
   "metadata": {},
   "source": [
    "Change the axis labels of your pair plot from Q4b) to `\"Sepal length\"`,\n",
    "`\"Sepal width\"`, `\"Petal length\"`, `\"Petal width\"`."
   ]
  },
  {
   "cell_type": "markdown",
   "id": "cb01a6e1",
   "metadata": {},
   "source": [
    "*Hint*: try using a for loop to update the labels.\n"
   ]
  },
  {
   "cell_type": "code",
   "execution_count": null,
   "id": "7d3adfdb",
   "metadata": {
    "lines_to_next_cell": 2
   },
   "outputs": [],
   "source": [
    "# Your Q4c) code here"
   ]
  },
  {
   "cell_type": "markdown",
   "id": "fe39b12f",
   "metadata": {},
   "source": [
    "### Solutions"
   ]
  },
  {
   "cell_type": "markdown",
   "id": "6f4a39f1",
   "metadata": {},
   "source": [
    "Got to the end early? Want to check your solutions?\n",
    "\n",
    "Your tutor will be going over the solutions shortly.\n",
    "\n",
    "However, in the meanwhile, you can view the solutions to these exercises\n",
    "[here](0-exercises-solutions.ipynb).\n"
   ]
  }
 ],
 "metadata": {
  "jupytext": {
   "cell_metadata_filter": "-all",
   "main_language": "python",
   "notebook_metadata_filter": "-all"
  }
 },
 "nbformat": 4,
 "nbformat_minor": 5
}
