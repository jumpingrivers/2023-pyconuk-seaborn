{
 "cells": [
  {
   "cell_type": "markdown",
   "id": "a5a3f9c5",
   "metadata": {},
   "source": [
    "# Exercise solutions\n",
    "\n"
   ]
  },
  {
   "cell_type": "markdown",
   "id": "c9fbd614",
   "metadata": {},
   "source": [
    "## Q1)"
   ]
  },
  {
   "cell_type": "markdown",
   "id": "3525b7ae",
   "metadata": {},
   "source": [
    "In this question you will create some scatter and line plots using the health\n",
    "expenditure data, which can be loaded by running:"
   ]
  },
  {
   "cell_type": "code",
   "execution_count": null,
   "id": "df8da767",
   "metadata": {
    "lines_to_next_cell": 2
   },
   "outputs": [],
   "source": [
    "import seaborn as sns\n",
    "\n",
    "data = sns.load_dataset(\"healthexp\")\n",
    "data.head()"
   ]
  },
  {
   "cell_type": "markdown",
   "id": "4acf94f2",
   "metadata": {},
   "source": [
    "### Q1a)"
   ]
  },
  {
   "cell_type": "markdown",
   "id": "5f0bc0a9",
   "metadata": {},
   "source": [
    "First, set the seaborn theme for your plots by running the code below.\n"
   ]
  },
  {
   "cell_type": "code",
   "execution_count": null,
   "id": "311c9ccd",
   "metadata": {
    "lines_to_next_cell": 2
   },
   "outputs": [],
   "source": [
    "sns.set_theme()"
   ]
  },
  {
   "cell_type": "markdown",
   "id": "5d12552f",
   "metadata": {},
   "source": [
    "### Q1b)"
   ]
  },
  {
   "cell_type": "markdown",
   "id": "a361071e",
   "metadata": {},
   "source": [
    "Using seaborn, create a scatter plot showing life expectancy (on the $y$-axis)\n",
    "against year (on the $x$-axis).\n"
   ]
  },
  {
   "cell_type": "code",
   "execution_count": null,
   "id": "d6ffda88",
   "metadata": {
    "lines_to_next_cell": 2
   },
   "outputs": [],
   "source": [
    "# Your Q1b) code here\n",
    "sns.scatterplot(data=data, x=\"Year\", y=\"Life_Expectancy\")"
   ]
  },
  {
   "cell_type": "markdown",
   "id": "63618848",
   "metadata": {},
   "source": [
    "### Q1c)"
   ]
  },
  {
   "cell_type": "markdown",
   "id": "02cf97fe",
   "metadata": {},
   "source": [
    "Now update the colour and shape of the data points based on country.\n"
   ]
  },
  {
   "cell_type": "code",
   "execution_count": null,
   "id": "ff8d27ac",
   "metadata": {
    "lines_to_next_cell": 2
   },
   "outputs": [],
   "source": [
    "# Your Q1c) code here\n",
    "sns.scatterplot(\n",
    "    data=data,\n",
    "    x=\"Year\",\n",
    "    y=\"Life_Expectancy\",\n",
    "    hue=\"Country\",\n",
    "    style=\"Country\",\n",
    ")"
   ]
  },
  {
   "cell_type": "markdown",
   "id": "d92edba5",
   "metadata": {},
   "source": [
    "### Q1d)"
   ]
  },
  {
   "cell_type": "markdown",
   "id": "62efc4f4",
   "metadata": {},
   "source": [
    "The code below will generate a subset of the data for Great Britain:\n"
   ]
  },
  {
   "cell_type": "code",
   "execution_count": null,
   "id": "9f25e861",
   "metadata": {
    "lines_to_next_cell": 2
   },
   "outputs": [],
   "source": [
    "gb = data[data[\"Country\"] == \"Great Britain\"]"
   ]
  },
  {
   "cell_type": "markdown",
   "id": "9fb0e28c",
   "metadata": {},
   "source": [
    "With this data, use seaborn to create a scatter plot of the life expectancy in\n",
    "Great Britain against time. Then resize the data points in your plot based on\n",
    "the annual health expenditure."
   ]
  },
  {
   "cell_type": "markdown",
   "id": "92ad3387",
   "metadata": {},
   "source": [
    "*Hint*: use the `size` argument to vary the point size.\n"
   ]
  },
  {
   "cell_type": "code",
   "execution_count": null,
   "id": "2279716f",
   "metadata": {
    "lines_to_next_cell": 2
   },
   "outputs": [],
   "source": [
    "# Your Q1d) code here\n",
    "sns.scatterplot(\n",
    "    data=gb,\n",
    "    x=\"Year\",\n",
    "    y=\"Life_Expectancy\",\n",
    "    size=\"Spending_USD\",\n",
    ")"
   ]
  },
  {
   "cell_type": "markdown",
   "id": "f6347ba3",
   "metadata": {},
   "source": [
    "### Q1e)"
   ]
  },
  {
   "cell_type": "markdown",
   "id": "4eb50b24",
   "metadata": {},
   "source": [
    "Using the \"full\" dataset again (not just data relating to Great Britain),\n",
    "create a line plot showing the average health expenditure for each year.\n",
    "\n",
    "Use a shaded region to indicate the standard deviation."
   ]
  },
  {
   "cell_type": "markdown",
   "id": "2eb8b4ea",
   "metadata": {},
   "source": [
    "*Hint*: set the argument `ci=\"sd\"` to use the standard deviation.\n"
   ]
  },
  {
   "cell_type": "code",
   "execution_count": null,
   "id": "f447ddef",
   "metadata": {
    "lines_to_next_cell": 2
   },
   "outputs": [],
   "source": [
    "# Your Q1e) code here\n",
    "sns.lineplot(\n",
    "    data=data,\n",
    "    x=\"Year\",\n",
    "    y=\"Spending_USD\",\n",
    "    ci=\"sd\",\n",
    ")"
   ]
  },
  {
   "cell_type": "markdown",
   "id": "e7bcb747",
   "metadata": {},
   "source": [
    "### Q1f)"
   ]
  },
  {
   "cell_type": "markdown",
   "id": "686800bd",
   "metadata": {},
   "source": [
    "Create another line plot showing the health expenditure against time for each\n",
    "country. Use a distinct line style and colour for each country.\n"
   ]
  },
  {
   "cell_type": "code",
   "execution_count": null,
   "id": "b90890af",
   "metadata": {
    "lines_to_next_cell": 2
   },
   "outputs": [],
   "source": [
    "# Your Q1f) code here\n",
    "sns.lineplot(\n",
    "    data=data,\n",
    "    x=\"Year\",\n",
    "    y=\"Spending_USD\",\n",
    "    hue=\"Country\",\n",
    "    style=\"Country\",\n",
    ")"
   ]
  },
  {
   "cell_type": "markdown",
   "id": "019e361a",
   "metadata": {},
   "source": [
    "## Q2)"
   ]
  },
  {
   "cell_type": "markdown",
   "id": "1ac02255",
   "metadata": {},
   "source": [
    "We will now see how to combine matplotlib syntax with seaborn's visualisation functions\n",
    "to construct subplots."
   ]
  },
  {
   "cell_type": "markdown",
   "id": "f0508a19",
   "metadata": {},
   "source": [
    "### Q2a)"
   ]
  },
  {
   "cell_type": "markdown",
   "id": "26fa0724",
   "metadata": {},
   "source": [
    "Run the code below to initialise a `plt.subplots()` figure with two panels.\n"
   ]
  },
  {
   "cell_type": "code",
   "execution_count": null,
   "id": "172ea031",
   "metadata": {
    "lines_to_next_cell": 2
   },
   "outputs": [],
   "source": [
    "import matplotlib.pyplot as plt\n",
    "\n",
    "fig, ax = plt.subplots(\n",
    "    nrows=2,\n",
    "    ncols=1,\n",
    "    figsize=(6, 5),\n",
    ")"
   ]
  },
  {
   "cell_type": "markdown",
   "id": "9250656d",
   "metadata": {},
   "source": [
    "The top panel is accessed using `ax[0]` and the bottom panel is accessed with `ax[1]`."
   ]
  },
  {
   "cell_type": "markdown",
   "id": "b457f0fd",
   "metadata": {},
   "source": [
    "### Q2b)"
   ]
  },
  {
   "cell_type": "markdown",
   "id": "13b13357",
   "metadata": {},
   "source": [
    "The code below adds a regression plot to the upper panel, showing the best-fit trendline\n",
    "for the life expectancy vs the health expenditure for the Great Britain data.\n",
    "\n",
    "Display the residuals in the lower panel."
   ]
  },
  {
   "cell_type": "markdown",
   "id": "ebdc9fd7",
   "metadata": {},
   "source": [
    "*Hint*: use the argument `ax` to specify which axes to use.\n"
   ]
  },
  {
   "cell_type": "code",
   "execution_count": null,
   "id": "d3286aaf",
   "metadata": {
    "lines_to_next_cell": 2
   },
   "outputs": [],
   "source": [
    "# Your Q2b) code here\n",
    "fig, ax = plt.subplots(\n",
    "    nrows=2,\n",
    "    ncols=1,\n",
    "    figsize=(6, 5),\n",
    ")\n",
    "sns.regplot(\n",
    "    data=gb,\n",
    "    x=\"Spending_USD\",\n",
    "    y=\"Life_Expectancy\",\n",
    "    ax=ax[0],\n",
    ")\n",
    "sns.residplot(\n",
    "    data=gb,\n",
    "    x=\"Spending_USD\",\n",
    "    y=\"Life_Expectancy\",\n",
    "    ax=ax[1],\n",
    ")"
   ]
  },
  {
   "cell_type": "markdown",
   "id": "0b0d4b74",
   "metadata": {},
   "source": [
    "_NB. Because our figure has been created with matplotlib, it can be customised\n",
    "using matplotlib syntax. For example, you could change the y-axis label of the lower\n",
    "panel to \"Residuals\" using_ `ax[1].set_ylabel(\"Residuals\")`"
   ]
  },
  {
   "cell_type": "markdown",
   "id": "495d71ca",
   "metadata": {},
   "source": [
    "## Q3)"
   ]
  },
  {
   "cell_type": "markdown",
   "id": "b235f356",
   "metadata": {},
   "source": [
    "In this question we will plot the distribution of pulse rates for different\n",
    "types of exercise and diet. First, load the dataset with:\n"
   ]
  },
  {
   "cell_type": "code",
   "execution_count": null,
   "id": "1eb4deb4",
   "metadata": {
    "lines_to_next_cell": 2
   },
   "outputs": [],
   "source": [
    "import seaborn as sns\n",
    "\n",
    "exercise = sns.load_dataset(\"exercise\")\n",
    "exercise.head()"
   ]
  },
  {
   "cell_type": "markdown",
   "id": "0ac78027",
   "metadata": {},
   "source": [
    "### Q3a)"
   ]
  },
  {
   "cell_type": "markdown",
   "id": "79c26c23",
   "metadata": {},
   "source": [
    "Plot the distribution of pulse rates using a histogram.\n"
   ]
  },
  {
   "cell_type": "code",
   "execution_count": null,
   "id": "a1943209",
   "metadata": {
    "lines_to_next_cell": 2
   },
   "outputs": [],
   "source": [
    "# Your Q3a) code here\n",
    "sns.histplot(data=exercise, x=\"pulse\")"
   ]
  },
  {
   "cell_type": "markdown",
   "id": "7e8e236a",
   "metadata": {},
   "source": [
    "### Q3b)"
   ]
  },
  {
   "cell_type": "markdown",
   "id": "52b30298",
   "metadata": {},
   "source": [
    "Plot the distributions of pulse rates, with a separate histogram for each\n",
    "exercise type (listed in the `\"kind\"` column). Use stepped histograms."
   ]
  },
  {
   "cell_type": "markdown",
   "id": "457dc7a3",
   "metadata": {},
   "source": [
    "*Hint*: specify the argument `element=\"step\"` to plot a stepped histogram.\n"
   ]
  },
  {
   "cell_type": "code",
   "execution_count": null,
   "id": "997322cc",
   "metadata": {
    "lines_to_next_cell": 2
   },
   "outputs": [],
   "source": [
    "# Your Q3b) code here\n",
    "sns.histplot(\n",
    "    data=exercise,\n",
    "    x=\"pulse\",\n",
    "    element=\"step\",\n",
    "    hue=\"kind\",\n",
    ")"
   ]
  },
  {
   "cell_type": "markdown",
   "id": "7a078ea8",
   "metadata": {},
   "source": [
    "### Q3c)"
   ]
  },
  {
   "cell_type": "markdown",
   "id": "d57b1713",
   "metadata": {},
   "source": [
    "Recreate the plot from Q3b), but visualising the distributions with a KDE,\n",
    "rather than a histogram.\n"
   ]
  },
  {
   "cell_type": "code",
   "execution_count": null,
   "id": "4924f5a5",
   "metadata": {
    "lines_to_next_cell": 2
   },
   "outputs": [],
   "source": [
    "# Your Q3c) code here\n",
    "sns.kdeplot(data=exercise, x=\"pulse\", hue=\"kind\")"
   ]
  },
  {
   "cell_type": "markdown",
   "id": "e7d473d5",
   "metadata": {},
   "source": [
    "## Q4)"
   ]
  },
  {
   "cell_type": "markdown",
   "id": "6b681106",
   "metadata": {},
   "source": [
    "In this question we will practice generating facet grids and pair grids."
   ]
  },
  {
   "cell_type": "markdown",
   "id": "ad8aaf6e",
   "metadata": {},
   "source": [
    "### Q4a)"
   ]
  },
  {
   "cell_type": "markdown",
   "id": "3e1463c9",
   "metadata": {},
   "source": [
    "Using a facet grid of histograms, display the distributions of pulse rates for\n",
    "every combination of diet and exercise type\n"
   ]
  },
  {
   "cell_type": "code",
   "execution_count": null,
   "id": "a26eab41",
   "metadata": {
    "lines_to_next_cell": 2
   },
   "outputs": [],
   "source": [
    "# Your Q4a) code here\n",
    "g = sns.FacetGrid(data=exercise, row=\"diet\", col=\"kind\")\n",
    "g.map(sns.histplot, \"pulse\")"
   ]
  },
  {
   "cell_type": "markdown",
   "id": "f16dd25a",
   "metadata": {},
   "source": [
    "### Q4b)"
   ]
  },
  {
   "cell_type": "markdown",
   "id": "b16f4cdc",
   "metadata": {},
   "source": [
    "We will now construct a pair grid plot using the iris dataset, which can be loaded by\n",
    "running:\n"
   ]
  },
  {
   "cell_type": "code",
   "execution_count": null,
   "id": "be1971b3",
   "metadata": {
    "lines_to_next_cell": 2
   },
   "outputs": [],
   "source": [
    "iris = sns.load_dataset(\"iris\")\n",
    "iris.head()"
   ]
  },
  {
   "cell_type": "markdown",
   "id": "d1e3a921",
   "metadata": {},
   "source": [
    "The code below will generate an empty pair grid. Update this so that the\n",
    "diagonal panels display histograms, the upper panels display scatter plots, and\n",
    "the lower panels display KDE plots.\n"
   ]
  },
  {
   "cell_type": "code",
   "execution_count": null,
   "id": "a8c31b4c",
   "metadata": {
    "lines_to_next_cell": 2
   },
   "outputs": [],
   "source": [
    "# Your Q4b) code here\n",
    "g = sns.PairGrid(data=iris, diag_sharey=False)\n",
    "g.map_diag(sns.histplot) \\\n",
    " .map_lower(sns.kdeplot) \\\n",
    " .map_upper(sns.scatterplot)"
   ]
  },
  {
   "cell_type": "markdown",
   "id": "6c75f3ce",
   "metadata": {},
   "source": [
    "## Q5)"
   ]
  },
  {
   "cell_type": "markdown",
   "id": "f4f6dbd9",
   "metadata": {},
   "source": [
    "Change the axis labels of your pair plot from Q4b) to `\"Sepal length\"`,\n",
    "`\"Sepal width\"`, `\"Petal length\"`, `\"Petal width\"`."
   ]
  },
  {
   "cell_type": "markdown",
   "id": "c64e18bf",
   "metadata": {},
   "source": [
    "*Hint*: try using a for loop to update the labels.\n"
   ]
  },
  {
   "cell_type": "code",
   "execution_count": null,
   "id": "cbbbb9ac",
   "metadata": {
    "lines_to_next_cell": 0
   },
   "outputs": [],
   "source": [
    "# Your Q4c) code here\n",
    "g = sns.PairGrid(data=iris, diag_sharey=False)\n",
    "g.map_diag(sns.histplot) \\\n",
    " .map_lower(sns.kdeplot) \\\n",
    " .map_upper(sns.scatterplot)\n",
    "\n",
    "fig, ax = g.figure, g.axes\n",
    "labels = [\n",
    "    \"Sepal length\",\n",
    "    \"Sepal width\",\n",
    "    \"Petal length\",\n",
    "    \"Petal width\",\n",
    "]\n",
    "for i, lab in enumerate(labels):\n",
    "    ax[i, 0].set_ylabel(lab)\n",
    "    ax[3, i].set_xlabel(lab)"
   ]
  },
  {
   "cell_type": "markdown",
   "id": "3e4613b3",
   "metadata": {},
   "source": [
    "\n",
    "\n"
   ]
  }
 ],
 "metadata": {
  "jupytext": {
   "cell_metadata_filter": "-all",
   "main_language": "python",
   "notebook_metadata_filter": "-all"
  }
 },
 "nbformat": 4,
 "nbformat_minor": 5
}
